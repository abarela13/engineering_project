{
 "metadata": {
  "language_info": {
   "codemirror_mode": {
    "name": "ipython",
    "version": 3
   },
   "file_extension": ".py",
   "mimetype": "text/x-python",
   "name": "python",
   "nbconvert_exporter": "python",
   "pygments_lexer": "ipython3",
   "version": "3.8.8"
  },
  "orig_nbformat": 2,
  "kernelspec": {
   "name": "python388jvsc74a57bd0e583136a3f54abb5329ac7c861fbbb0ea5afda1ce79984455fa000b60ac3fad7",
   "display_name": "Python 3.8.8 64-bit ('metis': conda)"
  }
 },
 "nbformat": 4,
 "nbformat_minor": 2,
 "cells": [
  {
   "cell_type": "code",
   "execution_count": 1,
   "metadata": {},
   "outputs": [],
   "source": [
    "from selenium.webdriver.chrome.options import Options\n",
    "from os import path, listdir, rename, getcwd\n",
    "from fake_useragent import UserAgent\n",
    "from dateutil.parser import parse\n",
    "from selenium import webdriver\n",
    "from datetime import datetime\n",
    "from bs4 import BeautifulSoup\n",
    "import pandas as pd\n",
    "import numpy as np\n",
    "import requests\n",
    "import pickle\n",
    "import time\n",
    "import re"
   ]
  },
  {
   "cell_type": "code",
   "execution_count": 2,
   "metadata": {},
   "outputs": [
    {
     "output_type": "execute_result",
     "data": {
      "text/plain": [
       "'Mozilla/5.0 (Windows NT 5.1) AppleWebKit/537.36 (KHTML, like Gecko) Chrome/35.0.3319.102 Safari/537.36'"
      ]
     },
     "metadata": {},
     "execution_count": 2
    }
   ],
   "source": [
    "def chrome_user_agent():\n",
    "    return UserAgent().chrome\n",
    "\n",
    "chrome_user_agent()"
   ]
  },
  {
   "cell_type": "code",
   "execution_count": 3,
   "metadata": {},
   "outputs": [],
   "source": [
    "def chrome_driver():\n",
    "    options = Options()\n",
    "    # options.add_argument('--headless')\n",
    "    options.add_argument(\"window-size=1600,1080\")\n",
    "    options.add_argument(f'user-agent={chrome_user_agent()}')\n",
    "        \n",
    "    options.add_experimental_option(\"excludeSwitches\", [\"enable-automation\"])\n",
    "    options.add_experimental_option('useAutomationExtension', False)\n",
    "    options.add_argument(\"--disable-blink-features=AutomationControlled\")\n",
    "\n",
    "    return webdriver.Chrome(options=options)"
   ]
  },
  {
   "cell_type": "code",
   "execution_count": 4,
   "metadata": {
    "tags": []
   },
   "outputs": [],
   "source": [
    "def check_products(soup, category, products_found = []):\n",
    "    print(category)\n",
    "    print('--------------------------------------')\n",
    "\n",
    "    sku_list = soup.find('ol', {'class', 'sku-item-list'}).findAll('li', {'class', 'sku-item'})\n",
    "\n",
    "    for sku in sku_list:\n",
    "        title = sku.find('div', {'class', 'sku-title'}).find('a')\n",
    "\n",
    "        print(title.text.strip()[:40])\n",
    "\n",
    "        if re.search(\"combo\", title['href']):\n",
    "            if sku.find('div', {'class', 'combo-add-to-cart-button'}).find('svg'):\n",
    "                name = title.text.strip()[:40]\n",
    "                price = sku.find('div', {'class', 'priceView-customer-price'}).find('span').text[1:]\n",
    "                button = sku.find('button', {'class', 'add-to-cart-button'}).text.strip()\n",
    "                print(category, name, price, datetime.now())\n",
    "        else:\n",
    "            if sku.find('button', {'class', 'add-to-cart-button'}).find('svg'):\n",
    "                name = title.text.strip()[:40]\n",
    "                price = sku.find('div', {'class', 'priceView-customer-price'}).find('span').text[1:]\n",
    "                button = sku.find('div', {'class', 'sku-list-item-button'}).find('button').text.strip()\n",
    "                print(category, name, price, datetime.now())\n",
    "\n",
    "    if soup.find('div', {'class', 'footer-category'}).find_next_sibling('div') and not soup.find('a', {'class', 'sku-list-page-next disabled'}):\n",
    "        driver.get(soup.find('a', {'class', 'sku-list-page-next'})['href'])\n",
    "        time.sleep(5)\n",
    "        check_products(BeautifulSoup(driver.page_source, 'html.parser'), category, products_found)\n",
    "    else:\n",
    "        return products_found"
   ]
  },
  {
   "cell_type": "code",
   "execution_count": 5,
   "metadata": {},
   "outputs": [],
   "source": [
    "def get_soup(url):\n",
    "    driver.get(url)\n",
    "    time.sleep(5)\n",
    "    return BeautifulSoup(driver.page_source, 'html.parser')"
   ]
  },
  {
   "cell_type": "code",
   "execution_count": 6,
   "metadata": {},
   "outputs": [],
   "source": [
    "def check_nintendo_switches():\n",
    "    nintendo_url = 'https://www.bestbuy.com/site/nintendo-switch/nintendo-switch-consoles/pcmcat1484077694025.c?id=pcmcat1484077694025'\n",
    "    return check_products(get_soup(nintendo_url), 'Switch')"
   ]
  },
  {
   "cell_type": "code",
   "execution_count": 7,
   "metadata": {},
   "outputs": [],
   "source": [
    "def check_xbox_consoles():\n",
    "    xbox_url = 'https://www.bestbuy.com/site/xbox-series-x-and-s/xbox-series-x-and-s-consoles/pcmcat1586900952752.c?id=pcmcat1586900952752'\n",
    "    return check_products(get_soup(xbox_url), \"Xbox\")"
   ]
  },
  {
   "cell_type": "code",
   "execution_count": 8,
   "metadata": {},
   "outputs": [],
   "source": [
    "def check_ps5_consoles():\n",
    "    ps5_url = 'https://www.bestbuy.com/site/playstation-5/ps5-consoles/pcmcat1587395025973.c?id=pcmcat1587395025973'\n",
    "    return check_products(get_soup(ps5_url), \"PS5\")"
   ]
  },
  {
   "cell_type": "code",
   "execution_count": 9,
   "metadata": {},
   "outputs": [],
   "source": [
    "def check_rtx_3000_series():\n",
    "    rtx_url = 'https://www.bestbuy.com/site/computer-cards-components/video-graphics-cards/abcat0507002.c?id=abcat0507002&qp=gpusv_facet%3DGraphics%20Processing%20Unit%20(GPU)~NVIDIA%20GeForce%20RTX%20'\n",
    "\n",
    "    rtx_list = ['3060', '3060 Ti', '3070', '3080', '3090']\n",
    "\n",
    "    for gpu in rtx_list:\n",
    "        return check_products(get_soup(rtx_url+gpu.replace(' ','%20')), gpu)"
   ]
  },
  {
   "cell_type": "code",
   "execution_count": 10,
   "metadata": {},
   "outputs": [],
   "source": [
    "def check_radeon_rx_series():\n",
    "    radeon_url = 'https://www.bestbuy.com/site/computer-cards-components/video-graphics-cards/abcat0507002.c?id=abcat0507002&qp=gpusv_facet%3DGraphics%20Processing%20Unit%20(GPU)~AMD%20Radeon%20RX%20'\n",
    "\n",
    "    radeon_list = ['6700 XT', '6800 XT', '6800', '6900 XT']\n",
    "\n",
    "    for gpu in radeon_list:\n",
    "        return check_products(get_soup(radeon_url+gpu.replace(' ','%20')), gpu)"
   ]
  },
  {
   "cell_type": "code",
   "execution_count": 11,
   "metadata": {},
   "outputs": [],
   "source": [
    "driver = chrome_driver()"
   ]
  },
  {
   "cell_type": "code",
   "execution_count": 12,
   "metadata": {},
   "outputs": [],
   "source": [
    "# print(check_nintendo_switches())"
   ]
  },
  {
   "cell_type": "code",
   "execution_count": 13,
   "metadata": {},
   "outputs": [
    {
     "output_type": "stream",
     "name": "stdout",
     "text": [
      "Xbox\n--------------------------------------\nPackage - Microsoft - Xbox Series S 512 \nMicrosoft - Xbox Series S 512 GB All-Dig\nMicrosoft - Xbox Series X 1TB Console - \nPackage - Microsoft - Xbox Series S 512 \nPackage - Microsoft - Xbox Series X 1TB \nPackage - Microsoft - Xbox Series S 512 \nPackage - Microsoft - Xbox Series X 1TB \nPackage - Microsoft - Xbox Series X 1TB \nPackage - Microsoft - Xbox Series S 512 \nPackage - Microsoft - Xbox Series X 1TB \nPackage - Microsoft - Xbox Series S 512 \nPackage - Microsoft - Xbox Series X 1TB \nPackage - Microsoft - Xbox Series X 1TB \nPackage - Microsoft - Xbox Series X 1TB \nPackage - Microsoft - Xbox Series X 1TB \nPackage - Microsoft - Xbox Series X 1TB \nPackage - Microsoft - Xbox Series X 1TB \nPackage - Microsoft - Xbox Series X 1TB \nPackage - Microsoft - Xbox Series X 1TB \nPackage - Microsoft - Xbox Series X 1TB \nPackage - Microsoft - Xbox Series X 1TB \n[]\n"
     ]
    }
   ],
   "source": [
    "print(check_xbox_consoles())"
   ]
  },
  {
   "cell_type": "code",
   "execution_count": 14,
   "metadata": {},
   "outputs": [],
   "source": [
    "# print(check_ps5_consoles())"
   ]
  },
  {
   "cell_type": "code",
   "execution_count": 15,
   "metadata": {},
   "outputs": [],
   "source": [
    "# print(check_rtx_3000_series())"
   ]
  },
  {
   "cell_type": "code",
   "execution_count": 16,
   "metadata": {},
   "outputs": [],
   "source": [
    "# print(check_radeon_rx_series())"
   ]
  },
  {
   "cell_type": "code",
   "execution_count": 17,
   "metadata": {},
   "outputs": [],
   "source": [
    "# driver.close()"
   ]
  }
 ]
}