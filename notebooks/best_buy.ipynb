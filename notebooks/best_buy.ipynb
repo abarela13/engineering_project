{
 "metadata": {
  "language_info": {
   "codemirror_mode": {
    "name": "ipython",
    "version": 3
   },
   "file_extension": ".py",
   "mimetype": "text/x-python",
   "name": "python",
   "nbconvert_exporter": "python",
   "pygments_lexer": "ipython3",
   "version": "3.8.6"
  },
  "orig_nbformat": 2,
  "kernelspec": {
   "name": "python386jvsc74a57bd0e583136a3f54abb5329ac7c861fbbb0ea5afda1ce79984455fa000b60ac3fad7",
   "display_name": "Python 3.8.6 64-bit ('metis': conda)"
  }
 },
 "nbformat": 4,
 "nbformat_minor": 2,
 "cells": [
  {
   "cell_type": "code",
   "execution_count": 1,
   "metadata": {},
   "outputs": [],
   "source": [
    "from selenium.webdriver.chrome.options import Options\n",
    "from os import path, listdir, rename, getcwd\n",
    "from fake_useragent import UserAgent\n",
    "from dateutil.parser import parse\n",
    "from selenium import webdriver\n",
    "from datetime import datetime\n",
    "from bs4 import BeautifulSoup\n",
    "import pandas as pd\n",
    "import numpy as np\n",
    "import requests\n",
    "import pickle\n",
    "import time\n",
    "import re"
   ]
  },
  {
   "cell_type": "code",
   "execution_count": 2,
   "metadata": {},
   "outputs": [
    {
     "output_type": "execute_result",
     "data": {
      "text/plain": [
       "'Mozilla/5.0 (Windows NT 5.1) AppleWebKit/537.36 (KHTML, like Gecko) Chrome/34.0.1847.116 Safari/537.36 Mozilla/5.0 (iPad; U; CPU OS 3_2 like Mac OS X; en-us) AppleWebKit/531.21.10 (KHTML, like Gecko) Version/4.0.4 Mobile/7B334b Safari/531.21.10'"
      ]
     },
     "metadata": {},
     "execution_count": 2
    }
   ],
   "source": [
    "def chrome_user_agent():\n",
    "    return UserAgent().chrome\n",
    "\n",
    "chrome_user_agent()"
   ]
  },
  {
   "cell_type": "code",
   "execution_count": 3,
   "metadata": {},
   "outputs": [],
   "source": [
    "def chrome_driver():\n",
    "    options = Options()\n",
    "    options.add_argument('--headless')\n",
    "    options.add_argument(\"window-size=1600,900\")\n",
    "    options.add_argument(f'user-agent={chrome_user_agent()}')\n",
    "        \n",
    "    options.add_experimental_option(\"excludeSwitches\", [\"enable-automation\"])\n",
    "    options.add_experimental_option('useAutomationExtension', False)\n",
    "    options.add_argument(\"--disable-blink-features=AutomationControlled\")\n",
    "\n",
    "    return webdriver.Chrome(options=options)"
   ]
  },
  {
   "cell_type": "code",
   "execution_count": 4,
   "metadata": {},
   "outputs": [],
   "source": [
    "def get_soup(url):\n",
    "    driver.get(url)\n",
    "    time.sleep(2)\n",
    "    return BeautifulSoup(driver.page_source, 'html.parser')"
   ]
  },
  {
   "cell_type": "code",
   "execution_count": 5,
   "metadata": {
    "tags": []
   },
   "outputs": [],
   "source": [
    "def check_products(soup, category, subcategory, drops=[]):\n",
    "    sku_list = soup.find('ol', {'class', 'sku-item-list'}).findAll('li', {'class', 'sku-item'})\n",
    "\n",
    "    for sku in sku_list:\n",
    "        title = sku.find('div', {'class', 'sku-title'}).find('a')\n",
    "\n",
    "        if re.search(\"combo\", title['href']):\n",
    "            if sku.find('div', {'class', 'combo-add-to-cart-button'}).find('svg'):\n",
    "                link = sku.find('div', {'class', 'sku-title'}).find('a')['href']\n",
    "                id = link[-12:]\n",
    "                name = title.text.strip()\n",
    "                price = sku.find('div', {'class', 'priceView-customer-price'}).find('span').text[1:]\n",
    "                button = sku.find('button', {'class', 'add-to-cart-button'}).text.strip()\n",
    "\n",
    "                drops.append([id, name, 2, category, subcategory, price, link, datetime.now().strftime('%Y/%m/%d %H:%M:%S'), '', True])\n",
    "        else:\n",
    "            if sku.find('button', {'class', 'add-to-cart-button'}).find('svg'):\n",
    "                id = sku.find('div', {'class', 'sku-title'}).find('a')['href'][-7:]\n",
    "                name = title.text.strip()\n",
    "                price = sku.find('div', {'class', 'priceView-customer-price'}).find('span').text[1:]\n",
    "                button = sku.find('div', {'class', 'sku-list-item-button'}).find('button').text.strip()\n",
    "                link = f'https://api.bestbuy.com/click/-/{id}/pdp'\n",
    "                atc = f'https://api.bestbuy.com/click/-/{id}/cart'\n",
    "\n",
    "                drops.append([id, name, 2, category, subcategory, price, link, datetime.now().strftime('%Y/%m/%d %H:%M:%S'), atc, False])\n",
    "\n",
    "    if soup.find('div', {'class', 'footer-category'}).find_next_sibling('div') and not soup.find('a', {'class', 'sku-list-page-next disabled'}):\n",
    "        driver.get(soup.find('a', {'class', 'sku-list-page-next'})['href'])\n",
    "        time.sleep(2)\n",
    "        return check_products(BeautifulSoup(driver.page_source, 'html.parser'), category, subcategory, drops)\n",
    "    else:\n",
    "        return drops"
   ]
  },
  {
   "cell_type": "code",
   "execution_count": 6,
   "metadata": {},
   "outputs": [],
   "source": [
    "def check_product_page(soup, id, category, subcategory, drops=[]):\n",
    "    if soup.find('button', {'class', 'btn btn-primary btn-lg btn-block btn-leading-ficon add-to-cart-button'}):\n",
    "        name = soup.find('div', {'class', 'sku-title'}).find('h1').text.strip()\n",
    "        price = soup.find('div', {'class', 'priceView-customer-price'}).find('span').text[1:]\n",
    "        link = f'https://api.bestbuy.com/click/-/{id}/pdp'\n",
    "        atc = f'https://api.bestbuy.com/click/-/{id}/cart'\n",
    "\n",
    "        drops.append([id, name, 2, category, subcategory, price, link, datetime.now().strftime('%Y/%m/%d %H:%M:%S'), atc, False])\n",
    "    return drops"
   ]
  },
  {
   "cell_type": "code",
   "execution_count": 7,
   "metadata": {},
   "outputs": [],
   "source": [
    "def check_xbox_consoles(drops):\n",
    "    xbox_url = 'https://www.bestbuy.com/site/xbox-series-x-and-s/xbox-series-x-and-s-consoles/pcmcat1586900952752.c?id=pcmcat1586900952752'\n",
    "    return check_products(get_soup(xbox_url), 3, 1, drops)"
   ]
  },
  {
   "cell_type": "code",
   "execution_count": 8,
   "metadata": {},
   "outputs": [],
   "source": [
    "def check_ps5_consoles(drops):\n",
    "    ps5_url = 'https://www.bestbuy.com/site/playstation-5/ps5-consoles/pcmcat1587395025973.c?id=pcmcat1587395025973'\n",
    "    return check_products(get_soup(ps5_url), 3, 2, drops)"
   ]
  },
  {
   "cell_type": "code",
   "execution_count": 9,
   "metadata": {},
   "outputs": [],
   "source": [
    "def check_nintendo_switches(drops):\n",
    "    nintendo_url = 'https://www.bestbuy.com/site/nintendo-switch/nintendo-switch-consoles/pcmcat1484077694025.c?id=pcmcat1484077694025'\n",
    "    return check_products(get_soup(nintendo_url), 3, 3, drops)"
   ]
  },
  {
   "cell_type": "code",
   "execution_count": 10,
   "metadata": {},
   "outputs": [],
   "source": [
    "def check_rtx_3000_series(drops):\n",
    "    rtx_dict = {\n",
    "        '3060': 4,\n",
    "        '3060 Ti': 5,\n",
    "        '3070': 6,\n",
    "        '3080': 7,\n",
    "        '3090': 8\n",
    "        }\n",
    "\n",
    "    rtx_url = 'https://www.bestbuy.com/site/computer-cards-components/video-graphics-cards/abcat0507002.c?id=abcat0507002&qp=gpusv_facet%3DGraphics%20Processing%20Unit%20(GPU)~NVIDIA%20GeForce%20RTX%20{gpu}'\n",
    "\n",
    "    for gpu in rtx_dict:\n",
    "        drops = check_products(get_soup(rtx_url.format(gpu=gpu).replace(' ','%20')), 1, rtx_dict[gpu], drops)\n",
    "    return drops"
   ]
  },
  {
   "cell_type": "code",
   "execution_count": 11,
   "metadata": {},
   "outputs": [],
   "source": [
    "def check_radeon_rx_series(drops):\n",
    "    radeon_dict = {\n",
    "        '6700 XT': 9,\n",
    "        '6800 XT': 10,\n",
    "        '6800': 11,\n",
    "        '6900 XT': 12\n",
    "        }\n",
    "\n",
    "    radeon_url = 'https://www.bestbuy.com/site/computer-cards-components/video-graphics-cards/abcat0507002.c?id=abcat0507002&qp=gpusv_facet%3DGraphics%20Processing%20Unit%20(GPU)~AMD%20Radeon%20RX%20{gpu}'\n",
    "\n",
    "    for gpu in radeon_dict:\n",
    "        drops = check_products(get_soup(radeon_url.format(gpu=gpu).replace(' ','%20')), 1, radeon_dict[gpu], drops)\n",
    "    return drops"
   ]
  },
  {
   "cell_type": "code",
   "execution_count": 12,
   "metadata": {},
   "outputs": [],
   "source": [
    "def check_ryzen_series(drops=[]):\n",
    "    ryzen_dict = {\n",
    "        '5600x': ['6438943', 13],\n",
    "        '5800X': ['6439000', 14],\n",
    "        '5900X': ['6438942', 15],\n",
    "        '5950X': ['6438941', 16]\n",
    "    }\n",
    "\n",
    "    product_url = 'https://api.bestbuy.com/click/-/{product}/pdp'\n",
    "\n",
    "    for gpu in ryzen_dict:\n",
    "        drops = check_product_page(get_soup(product_url.format(product=ryzen_dict[gpu][0])), ryzen_dict[gpu][0], 2, ryzen_dict[gpu][1], drops)\n",
    "        time.sleep(1)\n",
    "    return drops"
   ]
  },
  {
   "cell_type": "code",
   "execution_count": 13,
   "metadata": {},
   "outputs": [],
   "source": [
    "driver = chrome_driver()"
   ]
  },
  {
   "cell_type": "code",
   "execution_count": 14,
   "metadata": {},
   "outputs": [],
   "source": [
    "def check_all_products(drops=[]):\n",
    "    drops = check_xbox_consoles(drops)\n",
    "    drops = check_ps5_consoles(drops)\n",
    "    drops = check_rtx_3000_series(drops)\n",
    "    drops = check_radeon_rx_series(drops)\n",
    "    drops = check_nintendo_switches(drops)\n",
    "    drops = check_ryzen_series(drops)\n",
    "    return drops"
   ]
  },
  {
   "cell_type": "code",
   "execution_count": 15,
   "metadata": {
    "tags": []
   },
   "outputs": [],
   "source": [
    "all_drops = check_all_products()"
   ]
  },
  {
   "cell_type": "code",
   "execution_count": 16,
   "metadata": {},
   "outputs": [
    {
     "output_type": "stream",
     "name": "stdout",
     "text": [
      "[['6364253', 'Nintendo - Switch 32GB Console - Gray Joy-Con', 2, 3, 3, '299.99', 'https://api.bestbuy.com/click/-/6364253/pdp', '2021/05/23 11:54:55', 'https://api.bestbuy.com/click/-/6364253/cart', False], ['6401728', 'Nintendo - Switch - Animal Crossing: New Horizons Edition 32GB Console - Multi', 2, 3, 3, '299.99', 'https://api.bestbuy.com/click/-/6401728/pdp', '2021/05/23 11:54:55', 'https://api.bestbuy.com/click/-/6401728/cart', False], ['6460946', 'Nintendo - Switch 32GB Lite - Blue', 2, 3, 3, '199.99', 'https://api.bestbuy.com/click/-/6460946/pdp', '2021/05/23 11:54:55', 'https://api.bestbuy.com/click/-/6460946/cart', False], ['51ac336757a4', 'Package - Nintendo - Switch 32GB Lite - Gray and Animal Crossing: New Horizons', 2, 3, 3, '259.98', '/site/combo/nintendo-switch-consoles/e0d0be54-459e-4ea8-900e-51ac336757a4', '2021/05/23 11:54:55', '', True], ['3f9814562e56', 'Package - Nintendo - Switch 32GB Lite - Yellow and Animal Crossing: New Horizons', 2, 3, 3, '259.98', '/site/combo/nintendo-switch-consoles/e9b155b6-04c5-4134-bc41-3f9814562e56', '2021/05/23 11:54:55', '', True], ['6257142', 'Nintendo - Switch 32GB Lite - Yellow', 2, 3, 3, '199.99', 'https://api.bestbuy.com/click/-/6257142/pdp', '2021/05/23 11:54:55', 'https://api.bestbuy.com/click/-/6257142/cart', False], ['6257139', 'Nintendo - Switch 32GB Lite - Turquoise', 2, 3, 3, '199.99', 'https://api.bestbuy.com/click/-/6257139/pdp', '2021/05/23 11:54:55', 'https://api.bestbuy.com/click/-/6257139/cart', False], ['6257148', 'Nintendo - Switch 32GB Lite - Coral', 2, 3, 3, '199.99', 'https://api.bestbuy.com/click/-/6257148/pdp', '2021/05/23 11:54:55', 'https://api.bestbuy.com/click/-/6257148/cart', False], ['6377155', 'Nintendo - Geek Squad Certified Refurbished Switch Lite - Turquoise', 2, 3, 3, '179.99', 'https://api.bestbuy.com/click/-/6377155/pdp', '2021/05/23 11:54:55', 'https://api.bestbuy.com/click/-/6377155/cart', False], ['1e7496c3dc75', 'Package - Nintendo - Switch 32GB Console - Gray Joy-Con and Animal Crossing: New Horizons', 2, 3, 3, '359.98', '/site/combo/nintendo-switch-consoles/8cfdae25-e006-446b-9433-1e7496c3dc75', '2021/05/23 11:54:55', '', True], ['6377129', 'Nintendo - Geek Squad Certified Refurbished Switch Lite - Yellow', 2, 3, 3, '179.99', 'https://api.bestbuy.com/click/-/6377129/pdp', '2021/05/23 11:54:55', 'https://api.bestbuy.com/click/-/6377129/cart', False], ['6257135', 'Nintendo - Switch 32GB Lite - Gray', 2, 3, 3, '199.99', 'https://api.bestbuy.com/click/-/6257135/pdp', '2021/05/23 11:54:55', 'https://api.bestbuy.com/click/-/6257135/cart', False], ['6381893', 'Nintendo - Geek Squad Certified Refurbished Switch Lite - Gray', 2, 3, 3, '179.99', 'https://api.bestbuy.com/click/-/6381893/pdp', '2021/05/23 11:54:55', 'https://api.bestbuy.com/click/-/6381893/cart', False], ['6407084', 'Nintendo - Geek Squad Certified Refurbished Switch 32GB Lite - Coral', 2, 3, 3, '179.99', 'https://api.bestbuy.com/click/-/6407084/pdp', '2021/05/23 11:54:55', 'https://api.bestbuy.com/click/-/6407084/cart', False], ['622f69cf9e09', 'Package - Nintendo - Switch 32GB Lite - Coral and Animal Crossing: New Horizons', 2, 3, 3, '259.98', '/site/combo/nintendo-switch-consoles/d2c2b457-92ad-48e5-98f1-622f69cf9e09', '2021/05/23 11:54:55', '', True], ['a159d5a1ef67', 'Package - Nintendo - Switch 32GB Lite - Turquoise and Animal Crossing: New Horizons', 2, 3, 3, '259.98', '/site/combo/nintendo-switch-consoles/d305dfce-376a-4376-b164-a159d5a1ef67', '2021/05/23 11:55:00', '', True], [6438943, 'AMD - Ryzen 5 5600X 4th Gen 6-core, 12-threads Unlocked Desktop Processor With Wraith Stealth Cooler', 2, 2, 13, '299.00', 'https://api.bestbuy.com/click/-/6438943/pdp', '2021/05/23 11:55:07', 'https://api.bestbuy.com/click/-/6438943/cart', False], [6439000, 'AMD - Ryzen 7 5800X 4th Gen 8-core, 16-threads Unlocked Desktop Processor Without Cooler', 2, 2, 14, '449.00', 'https://api.bestbuy.com/click/-/6439000/pdp', '2021/05/23 11:55:12', 'https://api.bestbuy.com/click/-/6439000/cart', False]]\n"
     ]
    }
   ],
   "source": [
    "print(all_drops)"
   ]
  },
  {
   "cell_type": "code",
   "execution_count": 17,
   "metadata": {},
   "outputs": [],
   "source": [
    "driver.close()"
   ]
  }
 ]
}