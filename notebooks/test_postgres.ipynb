{
 "metadata": {
  "language_info": {
   "codemirror_mode": {
    "name": "ipython",
    "version": 3
   },
   "file_extension": ".py",
   "mimetype": "text/x-python",
   "name": "python",
   "nbconvert_exporter": "python",
   "pygments_lexer": "ipython3",
   "version": "3.8.6"
  },
  "orig_nbformat": 2,
  "kernelspec": {
   "name": "python386jvsc74a57bd0e583136a3f54abb5329ac7c861fbbb0ea5afda1ce79984455fa000b60ac3fad7",
   "display_name": "Python 3.8.6 64-bit ('metis': conda)"
  }
 },
 "nbformat": 4,
 "nbformat_minor": 2,
 "cells": [
  {
   "cell_type": "code",
   "execution_count": 1,
   "metadata": {},
   "outputs": [],
   "source": [
    "# Get pandas and postgres to work together\n",
    "import datetime\n",
    "import pandas.io.sql as pd_sql\n",
    "import psycopg2 as pg\n",
    "import pandas as pd"
   ]
  },
  {
   "cell_type": "code",
   "execution_count": 2,
   "metadata": {},
   "outputs": [],
   "source": [
    "# Postgres info to connect\n",
    "connection_args = {\n",
    "    'host': '192.168.0.242',  # We are connecting to our _local_ version of psql\n",
    "    'dbname': 'tracker-network',    # DB that we are connecting to\n",
    "    'port': 5432          \n",
    "}"
   ]
  },
  {
   "cell_type": "code",
   "execution_count": 3,
   "metadata": {},
   "outputs": [],
   "source": [
    "connection = pg.connect(**connection_args)\n",
    "connection.autocommit = True"
   ]
  },
  {
   "cell_type": "code",
   "execution_count": 4,
   "metadata": {},
   "outputs": [],
   "source": [
    "# make a cursor\n",
    "cursor = connection.cursor()"
   ]
  },
  {
   "cell_type": "code",
   "execution_count": 5,
   "metadata": {},
   "outputs": [],
   "source": [
    "query = \"SELECT * FROM products;\""
   ]
  },
  {
   "cell_type": "code",
   "execution_count": 6,
   "metadata": {},
   "outputs": [
    {
     "output_type": "stream",
     "name": "stdout",
     "text": [
      "[(3, '6364253', 'Nintendo - Switch 32GB Console - Gray Joy-Con', 2, 3, 3, 299.99, 'https://api.bestbuy.com/click/-/6364253/pdp', datetime.datetime(2021, 5, 23, 11, 1, 25, tzinfo=psycopg2.tz.FixedOffsetTimezone(offset=-420, name=None)), 'https://api.bestbuy.com/click/-/6364253/cart', False), (4, '6401728', 'Nintendo - Switch - Animal Crossing: New Horizons Edition 32GB Console - Multi', 2, 3, 3, 299.99, 'https://api.bestbuy.com/click/-/6401728/pdp', datetime.datetime(2021, 5, 23, 11, 54, 55, tzinfo=psycopg2.tz.FixedOffsetTimezone(offset=-420, name=None)), 'https://api.bestbuy.com/click/-/6401728/cart', False), (5, '6460946', 'Nintendo - Switch 32GB Lite - Blue', 2, 3, 3, 199.99, 'https://api.bestbuy.com/click/-/6460946/pdp', datetime.datetime(2021, 5, 23, 11, 54, 55, tzinfo=psycopg2.tz.FixedOffsetTimezone(offset=-420, name=None)), 'https://api.bestbuy.com/click/-/6460946/cart', False)]\n"
     ]
    }
   ],
   "source": [
    "# pd_sql.read_sql(query, connection)\n",
    "\n",
    "# make a query (sets the cursor pointing at the first record)\n",
    "cursor.execute(query)\n",
    "print(cursor.fetchall())"
   ]
  },
  {
   "cell_type": "code",
   "execution_count": 7,
   "metadata": {},
   "outputs": [],
   "source": [
    "def product_exists(external_id, vendor_id):\n",
    "    query = f\"SELECT id FROM products WHERE external_id = '{external_id}'\"\n",
    "    cursor.execute(query)\n",
    "    return cursor.fetchone() is not None"
   ]
  },
  {
   "cell_type": "code",
   "execution_count": 8,
   "metadata": {},
   "outputs": [],
   "source": [
    "def insert_new_product(external_id, name, vendor_id, category_id, subcategory_id, msrp, product_link, created_at, atc_link, combo):\n",
    "    query = f\"\"\"\n",
    "    INSERT INTO\n",
    "        products (external_id, name, vendor_id, category_id, subcategory_id, msrp, product_link, created_at, atc_link, combo)\n",
    "    VALUES\n",
    "        ('{external_id}', '{name}', {vendor_id}, {category_id}, {subcategory_id}, {msrp}, '{product_link}', '{created_at}', '{atc_link}', {combo})\n",
    "    \"\"\"    \n",
    "    cursor.execute(query)"
   ]
  },
  {
   "cell_type": "code",
   "execution_count": 18,
   "metadata": {},
   "outputs": [],
   "source": [
    "def insert_new_drop(external_id, vendor_id, price, created_at):\n",
    "    query = f\"\"\"\n",
    "    INSERT INTO\n",
    "        drops (product_id, price, created_at)\n",
    "    VALUES\n",
    "        ((SELECT id FROM products WHERE external_id = '{external_id}' and vendor_id = {vendor_id}), {price}, '{created_at}')\n",
    "    \"\"\"\n",
    "    cursor.execute(query)"
   ]
  },
  {
   "cell_type": "code",
   "execution_count": 23,
   "metadata": {},
   "outputs": [],
   "source": [
    "def process_drops(drops):\n",
    "    for drop in drops:\n",
    "        if not product_exists(drop[0], drop[2]):\n",
    "            insert_new_product(drop[0], drop[1], drop[2], drop[3], drop[4], drop[5], drop[6], drop[7], drop[8], drop[9])\n",
    "\n",
    "        insert_new_drop(drop[0], drop[2], drop[5], drop[7])"
   ]
  },
  {
   "cell_type": "code",
   "execution_count": 24,
   "metadata": {},
   "outputs": [],
   "source": [
    "drops = [\n",
    "    ['6364253', 'Nintendo - Switch 32GB Console - Gray Joy-Con', 2, 3, 3, '299.99', 'https://api.bestbuy.com/click/-/6364253/pdp', '2021/05/23 11:54:55', 'https://api.bestbuy.com/click/-/6364253/cart', False],\n",
    "    ['6401728', 'Nintendo - Switch - Animal Crossing: New Horizons Edition 32GB Console - Multi', 2, 3, 3, '299.99', 'https://api.bestbuy.com/click/-/6401728/pdp', '2021/05/23 11:54:55', 'https://api.bestbuy.com/click/-/6401728/cart', False],\n",
    "    ['6460946', 'Nintendo - Switch 32GB Lite - Blue', 2, 3, 3, '199.99', 'https://api.bestbuy.com/click/-/6460946/pdp', '2021/05/23 11:54:55', 'https://api.bestbuy.com/click/-/6460946/cart', False],\n",
    "    ['51ac336757a4', 'Package - Nintendo - Switch 32GB Lite - Gray and Animal Crossing: New Horizons', 2, 3, 3, '259.98', '/site/combo/nintendo-switch-consoles/e0d0be54-459e-4ea8-900e-51ac336757a4', '2021/05/23 11:54:55', '', True],\n",
    "    ['3f9814562e56', 'Package - Nintendo - Switch 32GB Lite - Yellow and Animal Crossing: New Horizons', 2, 3, 3, '259.98', '/site/combo/nintendo-switch-consoles/e9b155b6-04c5-4134-bc41-3f9814562e56', '2021/05/23 11:54:55', '', True]\n",
    "    ]"
   ]
  },
  {
   "cell_type": "code",
   "execution_count": 25,
   "metadata": {},
   "outputs": [],
   "source": [
    "process_drops(drops)"
   ]
  }
 ]
}